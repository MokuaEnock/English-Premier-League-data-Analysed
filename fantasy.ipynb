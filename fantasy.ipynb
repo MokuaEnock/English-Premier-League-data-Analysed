{
 "cells": [
  {
   "cell_type": "code",
   "execution_count": 5,
   "metadata": {},
   "outputs": [],
   "source": [
    "import pandas as pd\n",
    "import requests\n",
    "import json\n",
    "from pprint import pprint"
   ]
  },
  {
   "cell_type": "code",
   "execution_count": 2,
   "metadata": {},
   "outputs": [],
   "source": [
    "#base url\n",
    "base_url = 'https://fantasy.premierleague.com/api/'\n",
    "\n",
    "r = requests.get(base_url +'bootstrap-static/').json()"
   ]
  },
  {
   "cell_type": "code",
   "execution_count": 9,
   "metadata": {},
   "outputs": [
    {
     "name": "stdout",
     "output_type": "stream",
     "text": [
      "{ 'element_stats': [...],\n",
      "  'element_types': [...],\n",
      "  'elements': [...],\n",
      "  'events': [...],\n",
      "  'game_settings': {...},\n",
      "  'phases': [...],\n",
      "  'teams': [...],\n",
      "  'total_players': 10997846}\n"
     ]
    }
   ],
   "source": [
    "# show the top level fields\n",
    "pprint(r, indent=2, depth=1, compact=True)"
   ]
  },
  {
   "attachments": {},
   "cell_type": "markdown",
   "metadata": {},
   "source": [
    "# Player data"
   ]
  },
  {
   "cell_type": "code",
   "execution_count": 11,
   "metadata": {},
   "outputs": [
    {
     "name": "stdout",
     "output_type": "stream",
     "text": [
      "{'assists': 0,\n",
      " 'bonus': 0,\n",
      " 'bps': 5,\n",
      " 'chance_of_playing_next_round': 100,\n",
      " 'chance_of_playing_this_round': 100,\n",
      " 'clean_sheets': 0,\n",
      " 'clean_sheets_per_90': 0.0,\n",
      " 'code': 58822,\n",
      " 'corners_and_indirect_freekicks_order': None,\n",
      " 'corners_and_indirect_freekicks_text': '',\n",
      " 'cost_change_event': 0,\n",
      " 'cost_change_event_fall': 0,\n",
      " 'cost_change_start': -3,\n",
      " 'cost_change_start_fall': 3,\n",
      " 'creativity': '1.6',\n",
      " 'creativity_rank': 395,\n",
      " 'creativity_rank_type': 143,\n",
      " 'direct_freekicks_order': None,\n",
      " 'direct_freekicks_text': '',\n",
      " 'dreamteam_count': 0,\n",
      " 'element_type': 2,\n",
      " 'ep_next': '0.5',\n",
      " 'ep_this': '0.5',\n",
      " 'event_points': 0,\n",
      " 'expected_assists': '0.00979',\n",
      " 'expected_assists_per_90': 0.03147,\n",
      " 'expected_goal_involvements': '0.00979',\n",
      " 'expected_goal_involvements_per_90': 0.03147,\n",
      " 'expected_goals': '0.00000',\n",
      " 'expected_goals_conceded': '0.04350',\n",
      " 'expected_goals_conceded_per_90': 0.13982,\n",
      " 'expected_goals_per_90': 0.0,\n",
      " 'first_name': 'Cédric',\n",
      " 'form': '0.0',\n",
      " 'form_rank': 386,\n",
      " 'form_rank_type': 151,\n",
      " 'goals_conceded': 0,\n",
      " 'goals_conceded_per_90': 0.0,\n",
      " 'goals_scored': 0,\n",
      " 'ict_index': '0.4',\n",
      " 'ict_index_rank': 442,\n",
      " 'ict_index_rank_type': 162,\n",
      " 'id': 1,\n",
      " 'in_dreamteam': False,\n",
      " 'influence': '2.4',\n",
      " 'influence_rank': 436,\n",
      " 'influence_rank_type': 161,\n",
      " 'minutes': 28,\n",
      " 'news': '',\n",
      " 'news_added': '2022-09-16T13:30:06.551108Z',\n",
      " 'now_cost': 42,\n",
      " 'now_cost_rank': 549,\n",
      " 'now_cost_rank_type': 158,\n",
      " 'own_goals': 0,\n",
      " 'penalties_missed': 0,\n",
      " 'penalties_order': None,\n",
      " 'penalties_saved': 0,\n",
      " 'penalties_text': '',\n",
      " 'photo': '58822.jpg',\n",
      " 'points_per_game': '1.0',\n",
      " 'points_per_game_rank': 390,\n",
      " 'points_per_game_rank_type': 146,\n",
      " 'red_cards': 0,\n",
      " 'saves': 0,\n",
      " 'saves_per_90': 0.0,\n",
      " 'second_name': 'Alves Soares',\n",
      " 'selected_by_percent': '0.1',\n",
      " 'selected_rank': 400,\n",
      " 'selected_rank_type': 148,\n",
      " 'special': False,\n",
      " 'squad_number': None,\n",
      " 'starts': 0,\n",
      " 'starts_per_90': 0.0,\n",
      " 'status': 'a',\n",
      " 'team': 1,\n",
      " 'team_code': 3,\n",
      " 'threat': '0.0',\n",
      " 'threat_rank': 492,\n",
      " 'threat_rank_type': 199,\n",
      " 'total_points': 2,\n",
      " 'transfers_in': 6437,\n",
      " 'transfers_in_event': 4,\n",
      " 'transfers_out': 26365,\n",
      " 'transfers_out_event': 9,\n",
      " 'value_form': '0.0',\n",
      " 'value_season': '0.5',\n",
      " 'web_name': 'Cédric',\n",
      " 'yellow_cards': 0}\n"
     ]
    }
   ],
   "source": [
    "players = r['elements']\n",
    "\n",
    "pprint((players[0]))"
   ]
  },
  {
   "cell_type": "code",
   "execution_count": null,
   "metadata": {},
   "outputs": [],
   "source": []
  }
 ],
 "metadata": {
  "kernelspec": {
   "display_name": "Python 3",
   "language": "python",
   "name": "python3"
  },
  "language_info": {
   "codemirror_mode": {
    "name": "ipython",
    "version": 3
   },
   "file_extension": ".py",
   "mimetype": "text/x-python",
   "name": "python",
   "nbconvert_exporter": "python",
   "pygments_lexer": "ipython3",
   "version": "3.8.10"
  },
  "orig_nbformat": 4
 },
 "nbformat": 4,
 "nbformat_minor": 2
}
